{
 "cells": [
  {
   "cell_type": "markdown",
   "id": "e590f3c3-4984-4737-9fc8-f21f4c337bd7",
   "metadata": {},
   "source": [
    "Ronnie Sievewright 07/05/2025"
   ]
  },
  {
   "cell_type": "markdown",
   "id": "ce79cf78-26b9-4a9b-bce6-153cc6744cfc",
   "metadata": {},
   "source": [
    "# Example Dashboard"
   ]
  },
  {
   "cell_type": "markdown",
   "id": "5a111439-d59b-47f5-b770-dee6a9be7e14",
   "metadata": {},
   "source": [
    "# Fill the area between two lines\n",
    "This example shows how to use fill_between to color the area between two lines."
   ]
  },
  {
   "cell_type": "code",
   "execution_count": null,
   "id": "cfa4c75d-2794-4054-b413-7480f2202280",
   "metadata": {},
   "outputs": [],
   "source": [
    "import matplotlib.pyplot as plt\n",
    "import numpy as np\n",
    "\n",
    "x = np.arange(0.0, 2, 0.01)\n",
    "y1 = np.sin(2 * np.pi * x)\n",
    "y2 = 0.8 * np.sin(4 * np.pi * x)\n",
    "\n",
    "fig, (ax1, ax2, ax3) = plt.subplots(3, 1, sharex=True, figsize=(6, 6))\n",
    "\n",
    "ax1.fill_between(x, y1)\n",
    "ax1.set_title('fill between y1 and 0')\n",
    "\n",
    "ax2.fill_between(x, y1, 1)\n",
    "ax2.set_title('fill between y1 and 1')\n",
    "\n",
    "ax3.fill_between(x, y1, y2)\n",
    "ax3.set_title('fill between y1 and y2')\n",
    "ax3.set_xlabel('x')\n",
    "fig.tight_layout()"
   ]
  },
  {
   "cell_type": "markdown",
   "id": "ca59186c-7f70-4590-aa6d-61aaef55ce2c",
   "metadata": {},
   "source": [
    "# Discrete distribution as horizontal bar chart\n",
    "Stacked bar charts can be used to visualize discrete distributions."
   ]
  },
  {
   "cell_type": "code",
   "execution_count": null,
   "id": "cf10b671-d775-4d10-9a7e-7351558f2d1e",
   "metadata": {},
   "outputs": [],
   "source": [
    "import matplotlib.pyplot as plt\n",
    "import numpy as np\n",
    "\n",
    "category_names = ['Strongly disagree', 'Disagree',\n",
    "                  'Neither agree nor disagree', 'Agree', 'Strongly agree']\n",
    "results = {\n",
    "    'Question 1': [10, 15, 17, 32, 26],\n",
    "    'Question 2': [26, 22, 29, 10, 13],\n",
    "    'Question 3': [35, 37, 7, 2, 19],\n",
    "    'Question 4': [32, 11, 9, 15, 33],\n",
    "    'Question 5': [21, 29, 5, 5, 40],\n",
    "    'Question 6': [8, 19, 5, 30, 38]\n",
    "}\n",
    "\n",
    "\n",
    "def survey(results, category_names):\n",
    "    \"\"\"\n",
    "    Parameters\n",
    "    ----------\n",
    "    results : dict\n",
    "        A mapping from question labels to a list of answers per category.\n",
    "        It is assumed all lists contain the same number of entries and that\n",
    "        it matches the length of *category_names*.\n",
    "    category_names : list of str\n",
    "        The category labels.\n",
    "    \"\"\"\n",
    "    labels = list(results.keys())\n",
    "    data = np.array(list(results.values()))\n",
    "    data_cum = data.cumsum(axis=1)\n",
    "    category_colors = plt.colormaps['RdYlGn'](\n",
    "        np.linspace(0.15, 0.85, data.shape[1]))\n",
    "\n",
    "    fig, ax = plt.subplots(figsize=(9.2, 5))\n",
    "    ax.invert_yaxis()\n",
    "    ax.xaxis.set_visible(False)\n",
    "    ax.set_xlim(0, np.sum(data, axis=1).max())\n",
    "\n",
    "    for i, (colname, color) in enumerate(zip(category_names, category_colors)):\n",
    "        widths = data[:, i]\n",
    "        starts = data_cum[:, i] - widths\n",
    "        rects = ax.barh(labels, widths, left=starts, height=0.5,\n",
    "                        label=colname, color=color)\n",
    "\n",
    "        r, g, b, _ = color\n",
    "        text_color = 'white' if r * g * b < 0.5 else 'darkgrey'\n",
    "        ax.bar_label(rects, label_type='center', color=text_color)\n",
    "    ax.legend(ncols=len(category_names), bbox_to_anchor=(0, 1),\n",
    "              loc='lower left', fontsize='small')\n",
    "\n",
    "    return fig, ax\n",
    "\n",
    "\n",
    "survey(results, category_names)\n",
    "plt.show()"
   ]
  },
  {
   "cell_type": "markdown",
   "id": "d4cee98f-ad15-403c-8ce7-1236acf5a841",
   "metadata": {},
   "source": [
    "#Box plots with custom fill colors\n",
    "To color each box of a box plot individually:\n",
    "\n",
    "1. use the keyword argument patch_artist=True to create filled boxes.\n",
    "\n",
    "2. loop through the created boxes and adapt their color."
   ]
  },
  {
   "cell_type": "code",
   "execution_count": null,
   "id": "5a1c0340-fd7b-458f-8dea-d3b4499893c0",
   "metadata": {},
   "outputs": [],
   "source": [
    "import matplotlib.pyplot as plt\n",
    "import numpy as np\n",
    "\n",
    "np.random.seed(19680801)\n",
    "fruit_weights = [\n",
    "    np.random.normal(130, 10, size=100),\n",
    "    np.random.normal(125, 20, size=100),\n",
    "    np.random.normal(120, 30, size=100),\n",
    "]\n",
    "labels = ['peaches', 'oranges', 'tomatoes']\n",
    "colors = ['peachpuff', 'orange', 'tomato']\n",
    "\n",
    "fig, ax = plt.subplots()\n",
    "ax.set_ylabel('fruit weight (g)')\n",
    "\n",
    "bplot = ax.boxplot(fruit_weights,\n",
    "                   patch_artist=True,  # fill with color\n",
    "                   tick_labels=labels)  # will be used to label x-ticks\n",
    "\n",
    "# fill with colors\n",
    "for patch, color in zip(bplot['boxes'], colors):\n",
    "    patch.set_facecolor(color)\n",
    "\n",
    "plt.show()"
   ]
  }
 ],
 "metadata": {
  "kernelspec": {
   "display_name": "Python 3 (ipykernel)",
   "language": "python",
   "name": "python3"
  },
  "language_info": {
   "codemirror_mode": {
    "name": "ipython",
    "version": 3
   },
   "file_extension": ".py",
   "mimetype": "text/x-python",
   "name": "python",
   "nbconvert_exporter": "python",
   "pygments_lexer": "ipython3",
   "version": "3.13.3"
  }
 },
 "nbformat": 4,
 "nbformat_minor": 5
}
